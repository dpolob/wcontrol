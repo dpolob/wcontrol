{
 "cells": [
  {
   "cell_type": "code",
   "execution_count": 198,
   "metadata": {},
   "outputs": [],
   "source": [
    "import pandas as pd\n",
    "import pickle\n",
    "import numpy as np\n",
    "from sklearn.metrics import mean_absolute_error\n",
    "from tqdm import tqdm\n",
    "import torch\n",
    "import torch.nn as nn"
   ]
  },
  {
   "cell_type": "code",
   "execution_count": 199,
   "metadata": {},
   "outputs": [],
   "source": [
    "# contenedor\n",
    "\n",
    "resultados = pd.DataFrame(index=['M. Zonal', 'M. Parcela'], columns=['Temperatura1', 'HR1', 'Precipitacion1', 'Temperatura2', 'HR2', 'Precipitacion2'])\n",
    "\n",
    "columns = [('MSE(y_real, AEMET)', 'Temperatura1'), ('MSE(y_real, AEMET)', 'HR1'), ('MSE(y_real, AEMET)', 'Precipitacion1'),\n",
    "           ('MSE(y_real, y_pred)', 'Temperatura2'), ('MSE(y_real, y_pred)', 'HR2'), ('MSE(y_real, y_pred)', 'Precipitacion2')]\n",
    "resultados.columns = pd.MultiIndex.from_tuples(columns)"
   ]
  },
  {
   "cell_type": "markdown",
   "metadata": {},
   "source": [
    "### Evaluacion del modelo zonal"
   ]
  },
  {
   "cell_type": "code",
   "execution_count": 200,
   "metadata": {},
   "outputs": [],
   "source": [
    "with open(\"/home/diego/weather-control/experiments/experimentoFINAL/zmodel/outputs/best/prediccion_test.pickle\", 'rb') as handler:\n",
    "    predicciones = pickle.load(handler)"
   ]
  },
  {
   "cell_type": "code",
   "execution_count": 201,
   "metadata": {},
   "outputs": [
    {
     "name": "stderr",
     "output_type": "stream",
     "text": [
      "100%|██████████| 720/720 [00:01<00:00, 685.10it/s]\n",
      "100%|██████████| 720/720 [00:00<00:00, 842.92it/s]\n"
     ]
    }
   ],
   "source": [
    "y_pred, y_real, y_nwp = predicciones['y_pred'], predicciones['y_real'], predicciones['y_nwp']\n",
    "weights = torch.tensor([1/150541, 1/1621, 1/512, 1/249, 1/176, 1/121, 1/46, 1/1])\n",
    "MAE_t_z, MAE_hr_z, CEL_r_z = [], [], []\n",
    "for idx in tqdm(range(len(y_pred))):\n",
    "    MAE_t_z.append(mean_absolute_error(np.mean(y_real[idx][..., 0], axis=0).reshape(-1,1), np.mean(y_nwp[idx][...,0], axis=0).reshape(-1,1)))\n",
    "    MAE_hr_z.append(mean_absolute_error(np.mean(y_real[idx][..., 1], axis=0).reshape(-1,1), np.mean(y_nwp[idx][...,1], axis=0).reshape(-1,1)))\n",
    "    real = y_real[idx][..., 2:].astype(np.float32)\n",
    "    real = torch.from_numpy(real) + 0.02\n",
    "    real = real.reshape(-1, 8).float()\n",
    "    nwp = y_nwp[idx][..., 2:].astype(np.float32)\n",
    "    nwp = torch.from_numpy(nwp)\n",
    "    nwp = torch.argmax(nwp, dim=-1).reshape(-1, 1).squeeze().type(torch.long)\n",
    "    CEL_r_z.append(nn.CrossEntropyLoss(weight=weights)(real, nwp).numpy())\n",
    "\n",
    "resultados.loc['M. Zonal', [['MSE(y_real, AEMET)', 'Temperatura1']]] = np.mean(MAE_t_z, axis=0) * 100\n",
    "resultados.loc['M. Zonal', [['MSE(y_real, AEMET)', 'HR1']]] = np.mean(MAE_hr_z, axis=0) * 100\n",
    "resultados.loc['M. Zonal', [['MSE(y_real, AEMET)', 'Precipitacion1']]] = np.mean(CEL_r_z, axis=0)\n",
    "\n",
    "MAE_t_z, MAE_hr_z, CEL_r_z = [], [], []\n",
    "for idx in tqdm(range(len(y_pred))):\n",
    "    MAE_t_z.append(mean_absolute_error(np.mean(y_real[idx][..., 0], axis=0).reshape(-1,1), np.mean(y_pred[idx][...,0], axis=0).reshape(-1,1)))\n",
    "    MAE_hr_z.append(mean_absolute_error(np.mean(y_real[idx][..., 1], axis=0).reshape(-1,1), np.mean(y_pred[idx][...,1], axis=0).reshape(-1,1)))\n",
    "    pred = y_pred[idx][..., 2:].astype(np.float32)\n",
    "    pred = torch.from_numpy(pred)\n",
    "    pred = pred.reshape(-1, 8).float()\n",
    "\n",
    "    real = y_real[idx][..., 2:].astype(np.float32)\n",
    "    real = torch.from_numpy(real)\n",
    "    real = torch.argmax(real, dim=-1).reshape(-1, 1).squeeze().type(torch.long)\n",
    "    CEL_r_z.append(nn.CrossEntropyLoss(weight=weights)(pred, real).numpy())\n",
    "\n",
    "resultados.loc['M. Zonal', [['MSE(y_real, y_pred)', 'Temperatura2']]] = np.mean(MAE_t_z, axis=0) * 100\n",
    "resultados.loc['M. Zonal', [['MSE(y_real, y_pred)', 'HR2']]] = np.mean(MAE_hr_z, axis=0) * 100\n",
    "resultados.loc['M. Zonal', [['MSE(y_real, y_pred)', 'Precipitacion2']]] = np.mean(CEL_r_z, axis=0)\n",
    "\n"
   ]
  },
  {
   "cell_type": "code",
   "execution_count": 202,
   "metadata": {},
   "outputs": [
    {
     "name": "stdout",
     "output_type": "stream",
     "text": [
      "torch.Size([720, 7, 72])\n",
      "tensor(0)\n",
      "torch.Size([51840])\n",
      "tensor(0)\n"
     ]
    },
    {
     "name": "stderr",
     "output_type": "stream",
     "text": [
      "/home/diego/anaconda3/envs/wcontrol/lib/python3.8/site-packages/sklearn/metrics/_classification.py:1308: UndefinedMetricWarning: Recall and F-score are ill-defined and being set to 0.0 in labels with no true samples. Use `zero_division` parameter to control this behavior.\n",
      "  _warn_prf(average, modifier, msg_start, len(result))\n",
      "/home/diego/anaconda3/envs/wcontrol/lib/python3.8/site-packages/sklearn/metrics/_classification.py:1308: UndefinedMetricWarning: Recall and F-score are ill-defined and being set to 0.0 in labels with no true samples. Use `zero_division` parameter to control this behavior.\n",
      "  _warn_prf(average, modifier, msg_start, len(result))\n",
      "/home/diego/anaconda3/envs/wcontrol/lib/python3.8/site-packages/sklearn/metrics/_classification.py:1308: UndefinedMetricWarning: Recall and F-score are ill-defined and being set to 0.0 in labels with no true samples. Use `zero_division` parameter to control this behavior.\n",
      "  _warn_prf(average, modifier, msg_start, len(result))\n"
     ]
    },
    {
     "name": "stdout",
     "output_type": "stream",
     "text": [
      "              precision    recall  f1-score   support\n",
      "\n",
      "           0       0.99      0.97      0.98     51408\n",
      "           1       0.09      0.47      0.15       288\n",
      "           2       0.00      0.00      0.00       144\n",
      "           3       0.00      0.00      0.00         0\n",
      "\n",
      "    accuracy                           0.97     51840\n",
      "   macro avg       0.27      0.36      0.28     51840\n",
      "weighted avg       0.99      0.97      0.98     51840\n",
      "\n"
     ]
    },
    {
     "data": {
      "image/png": "[encoded data removed]",
      "text/plain": [
       "<Figure size 720x720 with 1 Axes>"
      ]
     },
     "metadata": {
      "needs_background": "light"
     },
     "output_type": "display_data"
    }
   ],
   "source": [
    "# matriz de clasificacion\n",
    "y_pred, y_real, y_nwp = predicciones['y_pred'], predicciones['y_real'], predicciones['y_nwp']\n",
    "pred = y_pred[..., 2:].astype(np.float32)\n",
    "pred = torch.from_numpy(pred)\n",
    "pred = torch.argmax(pred, dim=-1).float()\n",
    "print(pred.shape)\n",
    "pred = torch.mean(pred, dim=1)\n",
    "pred = pred.reshape(-1).long()\n",
    "print(pred[5000])\n",
    "print(pred.shape)\n",
    "\n",
    "real = y_real[..., 2:].astype(np.float32)\n",
    "real = torch.from_numpy(real)\n",
    "real = torch.argmax(real, dim=-1).float()\n",
    "real = torch.mean(real, dim=1)\n",
    "real = real.reshape(-1).long()\n",
    "print(real[5000])\n",
    "from sklearn.metrics import classification_report\n",
    "print(classification_report(real, pred))\n",
    "\n",
    "import matplotlib.pyplot as plt\n",
    "from sklearn.metrics import ConfusionMatrixDisplay\n",
    "fig, ax = plt.subplots(figsize=(10,10))\n",
    "\n",
    "\n",
    "ConfusionMatrixDisplay.from_predictions(real, pred, labels=range(8), colorbar=False, ax=ax)\n",
    "plt.show()"
   ]
  },
  {
   "cell_type": "code",
   "execution_count": 203,
   "metadata": {},
   "outputs": [
    {
     "name": "stderr",
     "output_type": "stream",
     "text": [
      "/home/diego/anaconda3/envs/wcontrol/lib/python3.8/site-packages/sklearn/metrics/_classification.py:1308: UndefinedMetricWarning: Recall and F-score are ill-defined and being set to 0.0 in labels with no true samples. Use `zero_division` parameter to control this behavior.\n",
      "  _warn_prf(average, modifier, msg_start, len(result))\n",
      "/home/diego/anaconda3/envs/wcontrol/lib/python3.8/site-packages/sklearn/metrics/_classification.py:1308: UndefinedMetricWarning: Recall and F-score are ill-defined and being set to 0.0 in labels with no true samples. Use `zero_division` parameter to control this behavior.\n",
      "  _warn_prf(average, modifier, msg_start, len(result))\n",
      "/home/diego/anaconda3/envs/wcontrol/lib/python3.8/site-packages/sklearn/metrics/_classification.py:1308: UndefinedMetricWarning: Recall and F-score are ill-defined and being set to 0.0 in labels with no true samples. Use `zero_division` parameter to control this behavior.\n",
      "  _warn_prf(average, modifier, msg_start, len(result))\n"
     ]
    },
    {
     "name": "stdout",
     "output_type": "stream",
     "text": [
      "              precision    recall  f1-score   support\n",
      "\n",
      "           0       1.00      0.95      0.97     51408\n",
      "           1       0.00      0.00      0.00       288\n",
      "           2       0.00      0.00      0.00       144\n",
      "           3       0.00      0.00      0.00         0\n",
      "           4       0.00      0.00      0.00         0\n",
      "           5       0.00      0.00      0.00         0\n",
      "\n",
      "    accuracy                           0.94     51840\n",
      "   macro avg       0.17      0.16      0.16     51840\n",
      "weighted avg       0.99      0.94      0.97     51840\n",
      "\n"
     ]
    },
    {
     "data": {
      "image/png": "[encoded data removed]",
      "text/plain": [
       "<Figure size 720x720 with 1 Axes>"
      ]
     },
     "metadata": {
      "needs_background": "light"
     },
     "output_type": "display_data"
    }
   ],
   "source": [
    "y_pred, y_real, y_nwp = predicciones['y_pred'], predicciones['y_real'], predicciones['y_nwp']\n",
    "nwp = y_nwp[..., 2:].astype(np.float32)\n",
    "nwp = torch.from_numpy(nwp)\n",
    "nwp = torch.argmax(nwp, dim=-1).float()\n",
    "nwp = torch.mean(nwp, dim=1)\n",
    "nwp = nwp.reshape(-1).long()\n",
    "\n",
    "\n",
    "real = y_real[..., 2:].astype(np.float32)\n",
    "real = torch.from_numpy(real)\n",
    "real = torch.argmax(real, dim=-1).float()\n",
    "real = torch.mean(real, dim=1)\n",
    "real = real.reshape(-1).long()\n",
    "from sklearn.metrics import classification_report\n",
    "print(classification_report(real, nwp))\n",
    "\n",
    "import matplotlib.pyplot as plt\n",
    "from sklearn.metrics import ConfusionMatrixDisplay\n",
    "fig, ax = plt.subplots(figsize=(10,10))\n",
    "\n",
    "ConfusionMatrixDisplay.from_predictions(real, nwp, labels=range(8), colorbar=False, ax=ax)\n",
    "plt.show()"
   ]
  },
  {
   "cell_type": "markdown",
   "metadata": {},
   "source": [
    "### Evaluacion del modelo de parcela"
   ]
  },
  {
   "cell_type": "code",
   "execution_count": 204,
   "metadata": {},
   "outputs": [],
   "source": [
    "with open(\"//home/diego/weather-control/experiments/experimentoFINAL/pmodel/outputs/hr/best/prediccion_test.pickle\", 'rb') as handler:\n",
    "    predicciones = pickle.load(handler)\n"
   ]
  },
  {
   "cell_type": "code",
   "execution_count": 205,
   "metadata": {},
   "outputs": [
    {
     "data": {
      "text/plain": [
       "(2928, 72, 1)"
      ]
     },
     "execution_count": 205,
     "metadata": {},
     "output_type": "execute_result"
    }
   ],
   "source": [
    "y_pred, y_real, y_nwp = predicciones['y_pred'], predicciones['y_real'], predicciones['y_nwp']\n",
    "y_nwp.shape"
   ]
  },
  {
   "cell_type": "code",
   "execution_count": 207,
   "metadata": {},
   "outputs": [
    {
     "name": "stderr",
     "output_type": "stream",
     "text": [
      "100%|██████████| 2928/2928 [00:00<00:00, 5086.44it/s]\n",
      "100%|██████████| 2928/2928 [00:00<00:00, 5092.63it/s]\n",
      "100%|██████████| 2928/2928 [00:00<00:00, 5332.18it/s]\n",
      "100%|██████████| 2928/2928 [00:00<00:00, 5397.24it/s]\n"
     ]
    },
    {
     "data": {
      "text/html": [
       "<div>\n",
       "<style scoped>\n",
       "    .dataframe tbody tr th:only-of-type {\n",
       "        vertical-align: middle;\n",
       "    }\n",
       "\n",
       "    .dataframe tbody tr th {\n",
       "        vertical-align: top;\n",
       "    }\n",
       "\n",
       "    .dataframe thead tr th {\n",
       "        text-align: left;\n",
       "    }\n",
       "</style>\n",
       "<table border=\"1\" class=\"dataframe\">\n",
       "  <thead>\n",
       "    <tr>\n",
       "      <th></th>\n",
       "      <th colspan=\"3\" halign=\"left\">MSE(y_real, AEMET)</th>\n",
       "      <th colspan=\"3\" halign=\"left\">MSE(y_real, y_pred)</th>\n",
       "    </tr>\n",
       "    <tr>\n",
       "      <th></th>\n",
       "      <th>Temperatura1</th>\n",
       "      <th>HR1</th>\n",
       "      <th>Precipitacion1</th>\n",
       "      <th>Temperatura2</th>\n",
       "      <th>HR2</th>\n",
       "      <th>Precipitacion2</th>\n",
       "    </tr>\n",
       "  </thead>\n",
       "  <tbody>\n",
       "    <tr>\n",
       "      <th>M. Zonal</th>\n",
       "      <td>3.602177</td>\n",
       "      <td>5.768373</td>\n",
       "      <td>1.825524</td>\n",
       "      <td>2.245377</td>\n",
       "      <td>4.756782</td>\n",
       "      <td>1.268004</td>\n",
       "    </tr>\n",
       "    <tr>\n",
       "      <th>M. Parcela</th>\n",
       "      <td>4.517538</td>\n",
       "      <td>6.779478</td>\n",
       "      <td>NaN</td>\n",
       "      <td>4.099472</td>\n",
       "      <td>7.493049</td>\n",
       "      <td>NaN</td>\n",
       "    </tr>\n",
       "  </tbody>\n",
       "</table>\n",
       "</div>"
      ],
      "text/plain": [
       "           MSE(y_real, AEMET)                          MSE(y_real, y_pred)  \\\n",
       "                 Temperatura1       HR1 Precipitacion1        Temperatura2   \n",
       "M. Zonal             3.602177  5.768373       1.825524            2.245377   \n",
       "M. Parcela           4.517538  6.779478            NaN            4.099472   \n",
       "\n",
       "                                     \n",
       "                 HR2 Precipitacion2  \n",
       "M. Zonal    4.756782       1.268004  \n",
       "M. Parcela  7.493049            NaN  "
      ]
     },
     "execution_count": 207,
     "metadata": {},
     "output_type": "execute_result"
    }
   ],
   "source": [
    "with open(\"//home/diego/weather-control/experiments/experimentoFINAL/pmodel/outputs/hr/best/prediccion_test.pickle\", 'rb') as handler:\n",
    "    predicciones = pickle.load(handler)\n",
    "y_pred, y_real, y_nwp = predicciones['y_pred'], predicciones['y_real'], predicciones['y_nwp']\n",
    "MAE_t_z, MAE_hr_z, CEL_r_z = [], [], []\n",
    "for idx in tqdm(range(len(y_pred))):\n",
    "    MAE_hr_z.append(mean_absolute_error(y_real[idx].reshape(-1,1), y_nwp[idx].reshape(-1,1)))\n",
    "resultados.loc['M. Parcela', [['MSE(y_real, AEMET)', 'HR1']]] = np.mean(MAE_hr_z, axis=0) * 100\n",
    "MAE_t_z, MAE_hr_z, CEL_r_z = [], [], []\n",
    "for idx in tqdm(range(len(y_pred))):\n",
    "    MAE_hr_z.append(mean_absolute_error(y_real[idx].reshape(-1,1), y_pred[idx].reshape(-1,1)))\n",
    "resultados.loc['M. Parcela', [['MSE(y_real, y_pred)', 'HR2']]] = np.mean(MAE_hr_z, axis=0) * 100\n",
    "\n",
    "with open(\"//home/diego/weather-control/experiments/experimentoFINAL/pmodel/outputs/temperatura/best/prediccion_test.pickle\", 'rb') as handler:\n",
    "    predicciones = pickle.load(handler)\n",
    "y_pred, y_real, y_nwp = predicciones['y_pred'], predicciones['y_real'], predicciones['y_nwp']\n",
    "MAE_t_z, MAE_hr_z, CEL_r_z = [], [], []\n",
    "for idx in tqdm(range(len(y_pred))):\n",
    "    MAE_hr_z.append(mean_absolute_error(y_real[idx].reshape(-1,1), y_nwp[idx].reshape(-1,1)))\n",
    "resultados.loc['M. Parcela', [['MSE(y_real, AEMET)', 'Temperatura1']]] = np.mean(MAE_hr_z, axis=0) * 100\n",
    "for idx in tqdm(range(len(y_pred))):\n",
    "    MAE_hr_z.append(mean_absolute_error(y_real[idx].reshape(-1,1), y_pred[idx].reshape(-1,1)))\n",
    "resultados.loc['M. Parcela', [['MSE(y_real, y_pred)', 'Temperatura2']]] = np.mean(MAE_hr_z, axis=0) * 100\n",
    "resultados\n"
   ]
  },
  {
   "cell_type": "code",
   "execution_count": 210,
   "metadata": {},
   "outputs": [
    {
     "name": "stdout",
     "output_type": "stream",
     "text": [
      "(2928, 72, 8)\n",
      "torch.Size([2928, 72])\n",
      "              precision    recall  f1-score   support\n",
      "\n",
      "           0       1.00      1.00      1.00      2928\n",
      "\n",
      "    accuracy                           1.00      2928\n",
      "   macro avg       1.00      1.00      1.00      2928\n",
      "weighted avg       1.00      1.00      1.00      2928\n",
      "\n"
     ]
    },
    {
     "data": {
      "image/png": "[encoded data removed]",
      "text/plain": [
       "<Figure size 720x720 with 1 Axes>"
      ]
     },
     "metadata": {
      "needs_background": "light"
     },
     "output_type": "display_data"
    }
   ],
   "source": [
    "# matriz de clasificacion\n",
    "with open(\"//home/diego/weather-control/experiments/experimentoFINAL/pmodel/outputs/precipitacion/best/prediccion_test.pickle\", 'rb') as handler:\n",
    "    predicciones = pickle.load(handler)\n",
    "print(y_pred.shape)\n",
    "y_pred, y_real, y_nwp = predicciones['y_pred'], predicciones['y_real'], predicciones['y_nwp']\n",
    "pred = y_pred[...].astype(np.float32)\n",
    "pred = torch.from_numpy(pred)\n",
    "pred = torch.argmax(pred, dim=-1).float()\n",
    "print(pred.shape)\n",
    "pred = torch.mean(pred, dim=1)\n",
    "pred = pred.reshape(-1).long()\n",
    "\n",
    "real = y_real[...].astype(np.float32)\n",
    "real = torch.from_numpy(real)\n",
    "real = torch.argmax(real, dim=-1).float()\n",
    "real = torch.mean(real, dim=1)\n",
    "real = real.reshape(-1).long()\n",
    "from sklearn.metrics import classification_report\n",
    "print(classification_report(real, pred))\n",
    "\n",
    "import matplotlib.pyplot as plt\n",
    "from sklearn.metrics import ConfusionMatrixDisplay\n",
    "fig, ax = plt.subplots(figsize=(10,10))\n",
    "\n",
    "\n",
    "ConfusionMatrixDisplay.from_predictions(real, pred, labels=range(8), colorbar=False, ax=ax)\n",
    "plt.show()  "
   ]
  },
  {
   "cell_type": "code",
   "execution_count": null,
   "metadata": {},
   "outputs": [],
   "source": [
    "y_pred, y_real, y_nwp = predicciones['y_pred'], predicciones['y_real'], predicciones['y_nwp']\n",
    "nwp = y_nwp[..., 2:].astype(np.float32)\n",
    "nwp = torch.from_numpy(nwp)\n",
    "nwp = torch.argmax(nwp, dim=-1).float()\n",
    "nwp = torch.mean(nwp, dim=1)\n",
    "nwp = nwp.reshape(-1).long()\n",
    "\n",
    "\n",
    "real = y_real[..., 2:].astype(np.float32)\n",
    "real = torch.from_numpy(real)\n",
    "real = torch.argmax(real, dim=-1).float()\n",
    "real = torch.mean(real, dim=1)\n",
    "real = real.reshape(-1).long()\n",
    "from sklearn.metrics import classification_report\n",
    "print(classification_report(real, nwp))\n",
    "\n",
    "import matplotlib.pyplot as plt\n",
    "from sklearn.metrics import ConfusionMatrixDisplay\n",
    "fig, ax = plt.subplots(figsize=(10,10))\n",
    "\n",
    "ConfusionMatrixDisplay.from_predictions(real, nwp, labels=range(8), colorbar=False, ax=ax)\n",
    "plt.show()"
   ]
  }
 ],
 "metadata": {
  "interpreter": {
   "hash": "b534bce5cd520b9b26dbfc8966f6c4c2e7e63c12c2c1a870aad1f986ac5bf1ae"
  },
  "kernelspec": {
   "display_name": "Python 3.8.11 ('wcontrol')",
   "language": "python",
   "name": "python3"
  },
  "language_info": {
   "codemirror_mode": {
    "name": "ipython",
    "version": 3
   },
   "file_extension": ".py",
   "mimetype": "text/x-python",
   "name": "python",
   "nbconvert_exporter": "python",
   "pygments_lexer": "ipython3",
   "version": "3.8.11"
  },
  "orig_nbformat": 4
 },
 "nbformat": 4,
 "nbformat_minor": 2
}
